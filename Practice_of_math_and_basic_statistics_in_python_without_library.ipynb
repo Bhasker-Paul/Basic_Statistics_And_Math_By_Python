{
  "nbformat": 4,
  "nbformat_minor": 0,
  "metadata": {
    "colab": {
      "provenance": []
    },
    "kernelspec": {
      "name": "python3",
      "display_name": "Python 3"
    },
    "language_info": {
      "name": "python"
    }
  },
  "cells": [
    {
      "cell_type": "markdown",
      "source": [
        "#"
      ],
      "metadata": {
        "id": "zI8KQ7yL7cOY"
      }
    },
    {
      "cell_type": "markdown",
      "source": [
        "# **Write a python programe to take to take two numbers as input and calculate their sum**"
      ],
      "metadata": {
        "id": "BTIQHQRc9vdP"
      }
    },
    {
      "cell_type": "code",
      "source": [
        "number1=float(input(\"Enter a number:\")) # put a nummerical number into variable number 1\n",
        "number2=float(input(\"Enter a number:\"))# put another numrical number into another variable number 2\n",
        "Total=number1+number2 # sum of two values from two variables stores in variable sum\n",
        "print(\"Their sum\", Total) # print sum to display the output of sum"
      ],
      "metadata": {
        "colab": {
          "base_uri": "https://localhost:8080/"
        },
        "id": "0aHO1yYw-fCw",
        "outputId": "bae2e5f0-9f49-4246-8d67-13afce53d1a1"
      },
      "execution_count": null,
      "outputs": [
        {
          "output_type": "stream",
          "name": "stdout",
          "text": [
            "Enter a number:20\n",
            "Enter a number:30\n",
            "Their sum 50.0\n"
          ]
        }
      ]
    },
    {
      "cell_type": "markdown",
      "source": [
        "# **Write a python programe to make a mean value of three numbers**"
      ],
      "metadata": {
        "id": "Ckgoq9_cGdxe"
      }
    },
    {
      "cell_type": "code",
      "source": [
        "number1=float(input(\"Enter a number:\")) # put a numerical number into variable number1\n",
        "number2=float(input(\"Enter a number\")) # put a numerical number into variable number 2\n",
        "number3= float(input(\"Enter a number\")) # put another numerical number into variable number 3\n",
        "mean=(number1+number2+number3)/3 # calculate the mean value by appling the mathmatical formulla of mean\n",
        "print(\"Mean\",mean) # Display the mean value of three numrical number\n"
      ],
      "metadata": {
        "colab": {
          "base_uri": "https://localhost:8080/"
        },
        "id": "9laoZO84GxSL",
        "outputId": "1be4a080-099e-4396-c5c0-1d524b87526d"
      },
      "execution_count": null,
      "outputs": [
        {
          "output_type": "stream",
          "name": "stdout",
          "text": [
            "Enter a number:10\n",
            "Enter a number20\n",
            "Enter a number30\n",
            "Mean 20.0\n"
          ]
        }
      ]
    },
    {
      "cell_type": "markdown",
      "source": [
        "# **Calculate the area of rectengule from given width and length**"
      ],
      "metadata": {
        "id": "ECbB9JcYLQLA"
      }
    },
    {
      "cell_type": "code",
      "source": [
        "length=float(input(\"Enter a number:\")) # put the numerical value of length into variable length\n",
        "width=float(input(\"Enter a number:\")) # put the numirical value of width into variable width\n",
        "area=length*width # calculate the area by applying mathmaticl formula, where we multiply length and width\n",
        "print(\"Area of Rectengule\", area)"
      ],
      "metadata": {
        "colab": {
          "base_uri": "https://localhost:8080/"
        },
        "id": "vNfz4xfCOOkd",
        "outputId": "99b9c448-0268-4c61-fc5a-ddcb5ffd9622"
      },
      "execution_count": null,
      "outputs": [
        {
          "output_type": "stream",
          "name": "stdout",
          "text": [
            "Enter a number:50\n",
            "Enter a number:70\n",
            "Area of Rectengule 3500.0\n"
          ]
        }
      ]
    },
    {
      "cell_type": "markdown",
      "source": [
        "#**Find mean and median from a data set**"
      ],
      "metadata": {
        "id": "eTS9H0ibTIUe"
      }
    },
    {
      "cell_type": "code",
      "source": [
        "Data=[10,15,20,25,30] # A dataset, which contails different types of values\n",
        "total=0 # Inintialize total to 0\n",
        "for i in Data: # Loop throgh each element of the dataset\n",
        "  total=total+i # add total\n",
        "mean=sum/len(Data) # Calculate mean by using mathmatical formulla\n",
        "n=len(Data) # Caluclte the frequency of the dataset\n",
        "Data.sort() # sort of the dataset\n",
        "if n%2==0: # check if the n is even\n",
        "  median=Data[n//2] # median is the middle value\n",
        "else:\n",
        "  median=(Data[n//2-1])+Data[n//2]/2# Median is average between two middle value\n",
        "print(\"Mean Value\",mean) # Display the mean value\n",
        "print(\"Mrdian value\",median) # Display the median value"
      ],
      "metadata": {
        "colab": {
          "base_uri": "https://localhost:8080/"
        },
        "id": "LWA3qR28TZgp",
        "outputId": "1cee9b3d-818a-4fa5-c4e1-acdc5733b82b"
      },
      "execution_count": null,
      "outputs": [
        {
          "output_type": "stream",
          "name": "stdout",
          "text": [
            "Mean Value 0.0\n",
            "Mrdian value 25.0\n"
          ]
        }
      ]
    },
    {
      "cell_type": "markdown",
      "source": [
        "#  **Find the mean, variance and standard deviation of a dataset**"
      ],
      "metadata": {
        "id": "s5SkDH6xt58g"
      }
    },
    {
      "cell_type": "code",
      "source": [
        "New_Data=[20,25,30,35,40,45,50] # A dataset which contains different types of values\n",
        "total=0 # initialize total to 0\n",
        "for i in New_Data: # Loop through each element of the dataset\n",
        "  total=i+total #Add total\n",
        "Mean=sum/len(New_Data) # Calculate mean by using mathmatical formulla\n",
        "sqaure_diff_sum=0 # Intialize square difference of total\n",
        "for value in New_Data:# applying for loops in dataset\n",
        "  sqaure_diff_sum+=(value-mean)**2 # Calculate square diffence by using mathmatical formulla\n",
        "variance=sqaure_diff_sum/n-1 # Calacuklating variance by using mathmatical formulla\n",
        "standard_deviation=variance**0.5 # Calculte standard deviation by using mathmatical formulla\n",
        "print(\"Mean Value of the dataset\", Mean) # Display the mean value\n",
        "print(\"Variance of the daataset\",variance) # Display the Variance of the Dataset\n",
        "print(\"Standard deviation of the Dataset\",standard_deviation) # Display the standard deviation\n"
      ],
      "metadata": {
        "colab": {
          "base_uri": "https://localhost:8080/"
        },
        "id": "niqLKOSsoLpt",
        "outputId": "4087a8d6-9dfb-4b1a-8962-853c5298e558"
      },
      "execution_count": null,
      "outputs": [
        {
          "output_type": "stream",
          "name": "stdout",
          "text": [
            "Mean Value of the dataset 35.0\n",
            "Variance of the daataset 454.0\n",
            "Standard deviation of the Dataset 21.307275752662516\n"
          ]
        }
      ]
    },
    {
      "cell_type": "markdown",
      "source": [
        "# **A Bag has three red, four blue and five green balls.What is the probability o f picking a blue ball?**"
      ],
      "metadata": {
        "id": "C9NaR3CrXEBI"
      }
    },
    {
      "cell_type": "code",
      "source": [
        "red_ball=3 # Number of red ball, which are put into a variable named red ball\n",
        "blue_ball=4 # Number of blue ball, which are put into a variable named blue ball\n",
        "green_ball=5 # Number of green ball, which are put into a variable named green ball\n",
        "total_ball=red_ball+blue_ball+green_ball # Keep the all ball into a new variable named total_ball\n",
        "probability_of_picking_blue_ball=blue_ball/ total_ball # Calcultae the probability of picking blue ball by appllying theorem of probbility\n",
        "print(\" Probabolity of Picking Blue Ball:\", probability_of_picking_blue_ball)# Display the probability of picking blue ball by using print function"
      ],
      "metadata": {
        "colab": {
          "base_uri": "https://localhost:8080/"
        },
        "id": "Wd9j4kGgX_nh",
        "outputId": "cf5e119d-ee8f-49f6-9b2d-467de535c9c4"
      },
      "execution_count": null,
      "outputs": [
        {
          "output_type": "stream",
          "name": "stdout",
          "text": [
            " Probabolity of Picking Blue Ball: 0.3333333333333333\n"
          ]
        }
      ]
    },
    {
      "cell_type": "markdown",
      "source": [
        "# **Correlation Heights (in cm): [150, 160, 170, 180, 190]Weights (in kg): [50, 55, 65, 70, 80] Calculate the correlation coefficient**"
      ],
      "metadata": {
        "id": "WqywcCRE7uPH"
      }
    },
    {
      "cell_type": "code",
      "source": [
        "x=[150,160,170,180,190] # Put all values of heights in a new variable named x\n",
        "y=[50,55,65,70,80] # Put all values of weight in a new variable named y\n",
        "n=len(x) # Calculate the frequency of a dataset\n",
        "mean_x=sum(x)/n # Calculate the mean of heights\n",
        "mean_y=sum(y)/n # Calculate the mean of weights\n",
        "num=sum((x[i]-mean_x)*(y[i]-mean_y) for i in range(n)) #Calculate the numerator of pearson correlation\n",
        "num=sum((x[i]-mean_x)*(y[i]-mean_y) for i in range(n)) # Calculate the demonetor of pearson correlation\n",
        "den_x=sum((x[i]-mean_x)**2 for i in range(n)) # Calculate the demoninator of part for x\n",
        "den_y=sum((y[i]-mean_y)**2 for i in range(n)) # Calculte the demoninator part for y\n",
        "correlation=num/(den_x**0.5*den_y**0.5) # Apply pearson correlation formulla\n",
        "print(\"Correlation Coffecient\", correlation) #print the final correlation coffecient."
      ],
      "metadata": {
        "colab": {
          "base_uri": "https://localhost:8080/"
        },
        "id": "Ta1z94Y39P3_",
        "outputId": "4e2562bb-f766-432c-8aa5-c0f438e7b359"
      },
      "execution_count": null,
      "outputs": [
        {
          "output_type": "stream",
          "name": "stdout",
          "text": [
            "Correlation Coffecient 0.9933992677987828\n"
          ]
        }
      ]
    },
    {
      "cell_type": "code",
      "source": [],
      "metadata": {
        "id": "576CUCPtX9Fx"
      },
      "execution_count": null,
      "outputs": []
    }
  ]
}